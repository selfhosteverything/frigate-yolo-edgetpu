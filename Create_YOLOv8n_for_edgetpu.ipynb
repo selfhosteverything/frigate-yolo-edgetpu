{
  "nbformat": 4,
  "nbformat_minor": 0,
  "metadata": {
    "colab": {
      "provenance": []
    },
    "kernelspec": {
      "name": "python3",
      "display_name": "Python 3"
    },
    "language_info": {
      "name": "python"
    }
  },
  "cells": [
    {
      "cell_type": "markdown",
      "source": [
        "Copy rerepsentative datasets from google drive (a zipped folder with 200~500 images)"
      ],
      "metadata": {
        "id": "VqpSAkGlv9L4"
      }
    },
    {
      "cell_type": "code",
      "source": [
        "!cp /content/drive/MyDrive/chosen.zip /content\n",
        "!unzip /content/chosen.zip -d /content/"
      ],
      "metadata": {
        "id": "791EMt1Zdi4T"
      },
      "execution_count": null,
      "outputs": []
    },
    {
      "cell_type": "markdown",
      "source": [
        "Install required packages"
      ],
      "metadata": {
        "id": "_qDi2yzMwMjn"
      }
    },
    {
      "cell_type": "code",
      "execution_count": null,
      "metadata": {
        "id": "QqvU5PL_y4uo"
      },
      "outputs": [],
      "source": [
        "!pip install ultralytics"
      ]
    },
    {
      "cell_type": "code",
      "source": [
        "!echo \"deb https://packages.cloud.google.com/apt coral-edgetpu-stable main\" | tee /etc/apt/sources.list.d/coral-edgetpu.list\n",
        "!curl https://packages.cloud.google.com/apt/doc/apt-key.gpg | apt-key add -\n",
        "!apt-get update && apt-get install -y edgetpu-compiler"
      ],
      "metadata": {
        "id": "lkS9z3br2Wg9"
      },
      "execution_count": null,
      "outputs": []
    },
    {
      "cell_type": "markdown",
      "source": [
        "Load the model and export to Tensorflow SavedModel"
      ],
      "metadata": {
        "id": "YX4Bp22ewQ92"
      }
    },
    {
      "cell_type": "code",
      "source": [
        "from ultralytics import YOLO\n",
        "model = YOLO(\"/content/yolov8n_300e.pt\")\n",
        "\n",
        "model.export(format=\"saved_model\", imgsz=320, nms=True, conf=0.6, iou=0.4, agnostic_nms=False, max_det=100)"
      ],
      "metadata": {
        "id": "mDTqflTwmavW"
      },
      "execution_count": null,
      "outputs": []
    },
    {
      "cell_type": "markdown",
      "source": [
        "Get the quantization script and run the script"
      ],
      "metadata": {
        "id": "_aQSye1qxGgo"
      }
    },
    {
      "cell_type": "code",
      "source": [
        "!wget https://raw.githubusercontent.com/selfhosteverything/frigate-yolo-edgetpu/refs/heads/main/convert_to_tflite_uint8.py -O /content/convert_to_tflite_uint8.py"
      ],
      "metadata": {
        "id": "399hPvSHxDBP"
      },
      "execution_count": null,
      "outputs": []
    },
    {
      "cell_type": "code",
      "source": [
        "!python3 convert_to_tflite_uint8.py /content/yolov8n_300e_saved_model/ /content/chosen/ /content/yolov8n_300e.tflite --img_height=320 --img_width=320"
      ],
      "metadata": {
        "id": "IcSJGm49zkzD"
      },
      "execution_count": null,
      "outputs": []
    },
    {
      "cell_type": "markdown",
      "source": [
        "Compile for edgetpu"
      ],
      "metadata": {
        "id": "wUqRIOeswhDX"
      }
    },
    {
      "cell_type": "code",
      "source": [
        "!edgetpu_compiler /content/yolov8n_300e.tflite -s"
      ],
      "metadata": {
        "id": "Ds8y0crd2ZWN"
      },
      "execution_count": null,
      "outputs": []
    },
    {
      "cell_type": "markdown",
      "source": [
        "Clean up"
      ],
      "metadata": {
        "id": "eQ5xP_FBwiuH"
      }
    },
    {
      "cell_type": "code",
      "source": [
        "!rm -r uint8_models/\n",
        "!rm -r *_saved_model/\n",
        "!rm *.onnx\n",
        "!rm *.log\n",
        "!rm calibration*"
      ],
      "metadata": {
        "id": "2JY5fySU51TG"
      },
      "execution_count": null,
      "outputs": []
    }
  ]
}